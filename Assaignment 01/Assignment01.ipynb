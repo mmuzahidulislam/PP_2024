{
 "cells": [
  {
   "cell_type": "code",
   "execution_count": 1,
   "id": "bb194e24-e65a-4060-9901-fb5d9ae3cd75",
   "metadata": {},
   "outputs": [],
   "source": [
    "import pandas as pd"
   ]
  },
  {
   "cell_type": "code",
   "execution_count": 2,
   "id": "127869ca-f3df-41da-9c34-b655ca2a2c36",
   "metadata": {},
   "outputs": [
    {
     "name": "stdout",
     "output_type": "stream",
     "text": [
      "      Mon  Tue  Wed  Thu  Fr\n",
      "Low    68   71   66   75  62\n",
      "High   89   93   82   97  79\n"
     ]
    }
   ],
   "source": [
    "temps = {'Mon':[68, 89], 'Tue':[71, 93], 'Wed':[66, 82], 'Thu':[75, 97], 'Fr':[62, 79]}\n",
    "temperatures = pd.DataFrame(temps, index=['Low', 'High'])\n",
    "print(temperatures)"
   ]
  },
  {
   "cell_type": "code",
   "execution_count": 3,
   "id": "145ee8b2-9d4c-47e1-ab49-0deb54ab991a",
   "metadata": {},
   "outputs": [
    {
     "name": "stdout",
     "output_type": "stream",
     "text": [
      "      Mon  Tue  Wed\n",
      "Low    68   71   66\n",
      "High   89   93   82\n"
     ]
    }
   ],
   "source": [
    "selected_columns = temperatures[['Mon', 'Tue', 'Wed']]\n",
    "print(selected_columns)"
   ]
  },
  {
   "cell_type": "code",
   "execution_count": 4,
   "id": "457e7429-1e42-4bf1-84f0-ac79aa4a1d5b",
   "metadata": {},
   "outputs": [
    {
     "name": "stdout",
     "output_type": "stream",
     "text": [
      "Mon    68\n",
      "Tue    71\n",
      "Wed    66\n",
      "Thu    75\n",
      "Fr     62\n",
      "Name: Low, dtype: int64\n"
     ]
    }
   ],
   "source": [
    "low_temperatures = temperatures.loc['Low']\n",
    "print(low_temperatures)"
   ]
  },
  {
   "cell_type": "code",
   "execution_count": 5,
   "id": "27c08108-8705-4c94-baf6-d23ffe360f1e",
   "metadata": {},
   "outputs": [
    {
     "name": "stdout",
     "output_type": "stream",
     "text": [
      "Mon   78.50\n",
      "Tue   82.00\n",
      "Wed   74.00\n",
      "Thu   86.00\n",
      "Fr    70.50\n",
      "dtype: float64\n"
     ]
    }
   ],
   "source": [
    "pd.options.display.float_format = \"{:.2f}\".format\n",
    "average_temperatures = temperatures.mean()\n",
    "print(average_temperatures)"
   ]
  },
  {
   "cell_type": "code",
   "execution_count": 6,
   "id": "72bfbf14-ac0b-4970-adb6-4e3adacfb47e",
   "metadata": {},
   "outputs": [
    {
     "data": {
      "text/html": [
       "<div>\n",
       "<style scoped>\n",
       "    .dataframe tbody tr th:only-of-type {\n",
       "        vertical-align: middle;\n",
       "    }\n",
       "\n",
       "    .dataframe tbody tr th {\n",
       "        vertical-align: top;\n",
       "    }\n",
       "\n",
       "    .dataframe thead th {\n",
       "        text-align: right;\n",
       "    }\n",
       "</style>\n",
       "<table border=\"1\" class=\"dataframe\">\n",
       "  <thead>\n",
       "    <tr style=\"text-align: right;\">\n",
       "      <th></th>\n",
       "      <th>Mon</th>\n",
       "      <th>Tue</th>\n",
       "      <th>Wed</th>\n",
       "      <th>Thu</th>\n",
       "      <th>Fr</th>\n",
       "    </tr>\n",
       "  </thead>\n",
       "  <tbody>\n",
       "    <tr>\n",
       "      <th>Low</th>\n",
       "      <td>68</td>\n",
       "      <td>71</td>\n",
       "      <td>66</td>\n",
       "      <td>75</td>\n",
       "      <td>62</td>\n",
       "    </tr>\n",
       "    <tr>\n",
       "      <th>High</th>\n",
       "      <td>89</td>\n",
       "      <td>93</td>\n",
       "      <td>82</td>\n",
       "      <td>97</td>\n",
       "      <td>79</td>\n",
       "    </tr>\n",
       "  </tbody>\n",
       "</table>\n",
       "</div>"
      ],
      "text/plain": [
       "      Mon  Tue  Wed  Thu  Fr\n",
       "Low    68   71   66   75  62\n",
       "High   89   93   82   97  79"
      ]
     },
     "execution_count": 6,
     "metadata": {},
     "output_type": "execute_result"
    }
   ],
   "source": [
    "temperatures"
   ]
  },
  {
   "cell_type": "code",
   "execution_count": 7,
   "id": "260a6b3f-76c9-4b8f-ae32-566e148b0d4d",
   "metadata": {},
   "outputs": [
    {
     "name": "stdout",
     "output_type": "stream",
     "text": [
      "Average Low Temperature: 68.40\n",
      "Average High Temperature: 88.00\n"
     ]
    }
   ],
   "source": [
    "average_low = temperatures.loc['Low'].mean()\n",
    "average_high = temperatures.loc['High'].mean()\n",
    "print(f\"Average Low Temperature: {average_low:.2f}\")\n",
    "print(f\"Average High Temperature: {average_high:.2f}\")"
   ]
  },
  {
   "cell_type": "markdown",
   "id": "d2be3dbd-5514-4a52-bde8-67141b30821a",
   "metadata": {},
   "source": [
    "### Average temp for Wed to Fri"
   ]
  },
  {
   "cell_type": "code",
   "execution_count": 8,
   "id": "4c144e33-1f32-47c0-a819-02e12e21fdc3",
   "metadata": {},
   "outputs": [
    {
     "data": {
      "text/plain": [
       "Low    67.7\n",
       "High   86.0\n",
       "dtype: float64"
      ]
     },
     "execution_count": 8,
     "metadata": {},
     "output_type": "execute_result"
    }
   ],
   "source": [
    "pd.options.display.float_format = \"{:.1f}\".format\n",
    "wed_to_fri = temperatures.loc[:,'Wed':'Fr']\n",
    "average_temps = wed_to_fri.mean(axis=1).round(1)\n",
    "average_temps"
   ]
  },
  {
   "cell_type": "markdown",
   "id": "b3686dbe-8cfe-474a-a34f-63fc6692b313",
   "metadata": {},
   "source": [
    "### Calculate the median high temperatures"
   ]
  },
  {
   "cell_type": "code",
   "execution_count": 9,
   "id": "bb7ab299-3312-43b3-bbc3-17e475f81030",
   "metadata": {},
   "outputs": [
    {
     "data": {
      "text/plain": [
       "np.float64(89.0)"
      ]
     },
     "execution_count": 9,
     "metadata": {},
     "output_type": "execute_result"
    }
   ],
   "source": [
    "temperatures.loc['High'].median()"
   ]
  },
  {
   "cell_type": "markdown",
   "id": "8183b308-a91f-4cc1-be7e-a1ece6fcf1c7",
   "metadata": {},
   "source": [
    "### Use the column names to select only the columns for ‘Friday’ only"
   ]
  },
  {
   "cell_type": "code",
   "execution_count": 10,
   "id": "aa410cfb-35f0-4ee4-88b2-40a4ad77cde4",
   "metadata": {},
   "outputs": [
    {
     "data": {
      "text/plain": [
       "Low     62\n",
       "High    79\n",
       "Name: Fr, dtype: int64"
      ]
     },
     "execution_count": 10,
     "metadata": {},
     "output_type": "execute_result"
    }
   ],
   "source": [
    "temperatures['Fr']"
   ]
  },
  {
   "cell_type": "markdown",
   "id": "fa566383-5510-4269-bdfc-cc43ac480cde",
   "metadata": {},
   "source": [
    "### Use the row at index number 4 to select only the low temperatures for each day."
   ]
  },
  {
   "cell_type": "code",
   "execution_count": 11,
   "id": "ef3f3fad-1f61-47f3-8f09-de84ff233086",
   "metadata": {},
   "outputs": [
    {
     "data": {
      "text/html": [
       "<div>\n",
       "<style scoped>\n",
       "    .dataframe tbody tr th:only-of-type {\n",
       "        vertical-align: middle;\n",
       "    }\n",
       "\n",
       "    .dataframe tbody tr th {\n",
       "        vertical-align: top;\n",
       "    }\n",
       "\n",
       "    .dataframe thead th {\n",
       "        text-align: right;\n",
       "    }\n",
       "</style>\n",
       "<table border=\"1\" class=\"dataframe\">\n",
       "  <thead>\n",
       "    <tr style=\"text-align: right;\">\n",
       "      <th></th>\n",
       "      <th>Mon</th>\n",
       "      <th>Tue</th>\n",
       "      <th>Wed</th>\n",
       "      <th>Thu</th>\n",
       "      <th>Fr</th>\n",
       "    </tr>\n",
       "  </thead>\n",
       "  <tbody>\n",
       "    <tr>\n",
       "      <th>Low</th>\n",
       "      <td>68</td>\n",
       "      <td>71</td>\n",
       "      <td>66</td>\n",
       "      <td>75</td>\n",
       "      <td>62</td>\n",
       "    </tr>\n",
       "    <tr>\n",
       "      <th>High</th>\n",
       "      <td>89</td>\n",
       "      <td>93</td>\n",
       "      <td>82</td>\n",
       "      <td>97</td>\n",
       "      <td>79</td>\n",
       "    </tr>\n",
       "  </tbody>\n",
       "</table>\n",
       "</div>"
      ],
      "text/plain": [
       "      Mon  Tue  Wed  Thu  Fr\n",
       "Low    68   71   66   75  62\n",
       "High   89   93   82   97  79"
      ]
     },
     "execution_count": 11,
     "metadata": {},
     "output_type": "execute_result"
    }
   ],
   "source": [
    "temperatures"
   ]
  },
  {
   "cell_type": "code",
   "execution_count": 12,
   "id": "6533e974-10a0-4c42-94f0-92ed22f16468",
   "metadata": {},
   "outputs": [],
   "source": [
    "low_temps = temperatures.iloc[0]"
   ]
  },
  {
   "cell_type": "code",
   "execution_count": 13,
   "id": "a8c6470e-a41c-4901-ac79-a75e6aca4f49",
   "metadata": {},
   "outputs": [
    {
     "data": {
      "text/plain": [
       "Mon    68\n",
       "Tue    71\n",
       "Wed    66\n",
       "Thu    75\n",
       "Fr     62\n",
       "Name: Low, dtype: int64"
      ]
     },
     "execution_count": 13,
     "metadata": {},
     "output_type": "execute_result"
    }
   ],
   "source": [
    "low_temps"
   ]
  },
  {
   "cell_type": "code",
   "execution_count": null,
   "id": "5394da2a-9744-4deb-8d61-0d255e57ce35",
   "metadata": {},
   "outputs": [],
   "source": []
  }
 ],
 "metadata": {
  "kernelspec": {
   "display_name": "Python 3 (ipykernel)",
   "language": "python",
   "name": "python3"
  },
  "language_info": {
   "codemirror_mode": {
    "name": "ipython",
    "version": 3
   },
   "file_extension": ".py",
   "mimetype": "text/x-python",
   "name": "python",
   "nbconvert_exporter": "python",
   "pygments_lexer": "ipython3",
   "version": "3.12.6"
  }
 },
 "nbformat": 4,
 "nbformat_minor": 5
}
