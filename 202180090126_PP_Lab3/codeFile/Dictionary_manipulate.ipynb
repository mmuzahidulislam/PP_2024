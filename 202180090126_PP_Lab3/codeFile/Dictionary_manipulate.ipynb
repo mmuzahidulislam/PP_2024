{
 "cells": [
  {
   "cell_type": "code",
   "execution_count": 2,
   "id": "8f353c0b-5065-409b-a43a-59c61634ac60",
   "metadata": {},
   "outputs": [],
   "source": [
    "tlds = {'canada': \"ca\", 'United States': \"us\", 'Mexico': \"mx\", 'China': \"cn\"} "
   ]
  },
  {
   "cell_type": "code",
   "execution_count": 3,
   "id": "27fd7bc7-866a-45cc-bb97-6c6e998316b7",
   "metadata": {},
   "outputs": [
    {
     "data": {
      "text/plain": [
       "{'canada': 'ca', 'United States': 'us', 'Mexico': 'mx', 'China': 'cn'}"
      ]
     },
     "execution_count": 3,
     "metadata": {},
     "output_type": "execute_result"
    }
   ],
   "source": [
    "tlds"
   ]
  },
  {
   "cell_type": "code",
   "execution_count": 5,
   "id": "72f0c97e-3da4-4631-a705-72e5a5a33b8b",
   "metadata": {},
   "outputs": [
    {
     "data": {
      "text/plain": [
       "True"
      ]
     },
     "execution_count": 5,
     "metadata": {},
     "output_type": "execute_result"
    }
   ],
   "source": [
    "\"canada\" in tlds"
   ]
  },
  {
   "cell_type": "code",
   "execution_count": 6,
   "id": "42cb3fee-bc37-42b6-9b91-857a88cd94df",
   "metadata": {},
   "outputs": [
    {
     "data": {
      "text/plain": [
       "False"
      ]
     },
     "execution_count": 6,
     "metadata": {},
     "output_type": "execute_result"
    }
   ],
   "source": [
    "\"France\" in tlds"
   ]
  },
  {
   "cell_type": "code",
   "execution_count": 17,
   "id": "58e8f911-0801-40d8-ad5c-b732b3fb575d",
   "metadata": {},
   "outputs": [
    {
     "name": "stdout",
     "output_type": "stream",
     "text": [
      "canada : ca\n",
      "United States : us\n",
      "Mexico : mx\n",
      "China : cn\n"
     ]
    }
   ],
   "source": [
    "for country, tld in tlds.items():\n",
    "    print(f'{country} : {tld}')"
   ]
  },
  {
   "cell_type": "code",
   "execution_count": 18,
   "id": "ff3a3013-bf3f-485d-9b39-f8707c8451ea",
   "metadata": {},
   "outputs": [],
   "source": [
    "tlds['Sweden']='sw'"
   ]
  },
  {
   "cell_type": "code",
   "execution_count": 19,
   "id": "52adc8a3-90d5-44d8-a113-1d3807b1d72c",
   "metadata": {},
   "outputs": [
    {
     "data": {
      "text/plain": [
       "{'canada': 'ca',\n",
       " 'United States': 'us',\n",
       " 'Mexico': 'mx',\n",
       " 'China': 'cn',\n",
       " 'Sweden': 'sw'}"
      ]
     },
     "execution_count": 19,
     "metadata": {},
     "output_type": "execute_result"
    }
   ],
   "source": [
    "tlds"
   ]
  },
  {
   "cell_type": "code",
   "execution_count": 20,
   "id": "0fe904c3-485e-47ec-b5c3-dbdede46ce60",
   "metadata": {},
   "outputs": [],
   "source": [
    "tlds['Sweden']='se'"
   ]
  },
  {
   "cell_type": "code",
   "execution_count": 21,
   "id": "fdcac807-9782-48d0-a7be-f1ef6b253345",
   "metadata": {},
   "outputs": [
    {
     "data": {
      "text/plain": [
       "{'canada': 'ca',\n",
       " 'United States': 'us',\n",
       " 'Mexico': 'mx',\n",
       " 'China': 'cn',\n",
       " 'Sweden': 'se'}"
      ]
     },
     "execution_count": 21,
     "metadata": {},
     "output_type": "execute_result"
    }
   ],
   "source": [
    "tlds"
   ]
  },
  {
   "cell_type": "code",
   "execution_count": null,
   "id": "74c0e751-161a-4475-abb9-d9615f9a952c",
   "metadata": {},
   "outputs": [],
   "source": []
  }
 ],
 "metadata": {
  "kernelspec": {
   "display_name": "Python 3 (ipykernel)",
   "language": "python",
   "name": "python3"
  },
  "language_info": {
   "codemirror_mode": {
    "name": "ipython",
    "version": 3
   },
   "file_extension": ".py",
   "mimetype": "text/x-python",
   "name": "python",
   "nbconvert_exporter": "python",
   "pygments_lexer": "ipython3",
   "version": "3.12.6"
  }
 },
 "nbformat": 4,
 "nbformat_minor": 5
}
